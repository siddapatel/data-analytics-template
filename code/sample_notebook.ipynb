{
 "cells": [
  {
   "cell_type": "markdown",
   "id": "0440bbb9-26f9-4219-ba0a-c8f42cebb329",
   "metadata": {},
   "source": [
    "### Enter Title Here :\n",
    "### Enter Name Here: "
   ]
  },
  {
   "cell_type": "markdown",
   "id": "b3891723-06a7-42a0-85bc-c0ab6c2f2eb8",
   "metadata": {},
   "source": [
    "# Indicate use case\n"
   ]
  },
  {
   "cell_type": "code",
   "execution_count": 15,
   "id": "faadc25c-3e11-4668-ace7-47b6db437732",
   "metadata": {},
   "outputs": [],
   "source": [
    "# What is this project for \n",
    "# What are the goals of this project "
   ]
  },
  {
   "cell_type": "markdown",
   "id": "829066a3-4f47-4284-9b94-55f4a3d3b9b5",
   "metadata": {},
   "source": [
    "# Load in data"
   ]
  },
  {
   "cell_type": "code",
   "execution_count": 18,
   "id": "87739c8f-7867-439a-9fd9-60151922cba6",
   "metadata": {},
   "outputs": [],
   "source": [
    "# import any csvs needed \n",
    "# download/run any packages needed to complete the project"
   ]
  },
  {
   "cell_type": "code",
   "execution_count": 20,
   "id": "3e7e024c-fe02-4038-b1ff-73032a532837",
   "metadata": {},
   "outputs": [],
   "source": [
    "# clean any data"
   ]
  },
  {
   "cell_type": "code",
   "execution_count": 22,
   "id": "67b4e028-55f9-4148-823c-61e836527d98",
   "metadata": {},
   "outputs": [],
   "source": [
    "#merge any data"
   ]
  },
  {
   "cell_type": "code",
   "execution_count": 24,
   "id": "de2f7de6-bcf2-4729-9ce0-f524914576af",
   "metadata": {},
   "outputs": [],
   "source": [
    "#download and run another CSV"
   ]
  },
  {
   "cell_type": "markdown",
   "id": "4842f13e-d950-4b91-93b3-6072a449cb31",
   "metadata": {},
   "source": [
    "# Run Code "
   ]
  },
  {
   "cell_type": "code",
   "execution_count": 27,
   "id": "84b810f5-b302-401c-8669-cfb1c9182374",
   "metadata": {},
   "outputs": [],
   "source": [
    "# execute code below, adding documentation"
   ]
  },
  {
   "cell_type": "markdown",
   "id": "ffb373a5-e9ff-4d87-ad46-160d60ef0d8d",
   "metadata": {},
   "source": [
    "# Display Results"
   ]
  },
  {
   "cell_type": "code",
   "execution_count": 30,
   "id": "debd7f9e-7663-48d7-b177-111407720fa8",
   "metadata": {},
   "outputs": [],
   "source": [
    "#Disaply results using f strings\n",
    "# Add a written paragraph of the findings\n",
    "#Save your changes"
   ]
  },
  {
   "cell_type": "code",
   "execution_count": null,
   "id": "0f2682f5-7e73-43f8-bcc0-6b00ce965856",
   "metadata": {},
   "outputs": [],
   "source": []
  }
 ],
 "metadata": {
  "kernelspec": {
   "display_name": "Python 3 (ipykernel)",
   "language": "python",
   "name": "python3"
  },
  "language_info": {
   "codemirror_mode": {
    "name": "ipython",
    "version": 3
   },
   "file_extension": ".py",
   "mimetype": "text/x-python",
   "name": "python",
   "nbconvert_exporter": "python",
   "pygments_lexer": "ipython3",
   "version": "3.12.3"
  }
 },
 "nbformat": 4,
 "nbformat_minor": 5
}
